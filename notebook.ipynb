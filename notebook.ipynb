{
 "cells": [
  {
   "cell_type": "markdown",
   "metadata": {},
   "source": [
    "# ¡Hola Luis!\n",
    "\n",
    "Mi nombre es Ezequiel Ferrario, soy code reviewer en Tripleten y tengo el agrado de revisar el proyecto que entregaste.\n",
    "\n",
    "Para simular la dinámica de un ambiente de trabajo, si veo algún error, en primer instancia solo los señalaré, dándote la oportunidad de encontrarlos y corregirlos por tu cuenta. En un trabajo real, el líder de tu equipo hará una dinámica similar. En caso de que no puedas resolver la tarea, te daré una información más precisa en la próxima revisión.\n",
    "\n",
    "Encontrarás mis comentarios más abajo - **por favor, no los muevas, no los modifiques ni los borres**.\n",
    "\n",
    "¿Cómo lo voy a hacer? Voy a leer detenidamente cada una de las implementaciones que has llevado a cabo para cumplir con lo solicitado. Verás los comentarios de esta forma:\n",
    "\n",
    "<div class=\"alert alert-block alert-success\">\n",
    "<b>Comentario del revisor</b> <a class=\"tocSkip\"></a>\n",
    "\n",
    "Si todo está perfecto.\n",
    "</div>\n",
    "\n",
    "\n",
    "<div class=\"alert alert-block alert-warning\">\n",
    "<b>Comentario del revisor</b> <a class=\"tocSkip\"></a>\n",
    "\n",
    "Si tu código está bien pero se puede mejorar o hay algún detalle que le hace falta. Se aceptan uno o dos comentarios de este tipo en el borrador, pero si hay más, deberá hacer las correcciones. Es como una tarea de prueba al solicitar un trabajo: muchos pequeños errores pueden hacer que un candidato sea rechazado.\n",
    "</div>\n",
    "\n",
    "<div class=\"alert alert-block alert-danger\">\n",
    "\n",
    "<b>Comentario del revisor</b> <a class=\"tocSkip\"></a>\n",
    "\n",
    "Si de pronto hace falta algo o existe algún problema con tu código o conclusiones.\n",
    "</div>\n",
    "\n",
    "Puedes responderme de esta forma:\n",
    "\n",
    "<div class=\"alert alert-block alert-info\">\n",
    "<b>Respuesta del estudiante</b> <a class=\"tocSkip\"></a>\n",
    "\n",
    "Hola, muchas gracias por tus comentarios y la revisión.\n",
    "</div>\n",
    "\n",
    "¡Empecemos!"
   ]
  },
  {
   "cell_type": "markdown",
   "metadata": {},
   "source": [
    "--------\n",
    "\n",
    "<div class=\"alert alert-block alert-danger\">\n",
    "\n",
    "<b>Comentario general #1</b> <a class=\"tocSkip\"></a>\n",
    "\n",
    "Luis, has realizado un excelente proyecto.\n",
    "    \n",
    " Abarcaste muy bien toda la parte de los graficos, donde dejaste muy buenas conclusiones y pruebas estadisticas. \n",
    "    \n",
    "  Restan algunos detalles por corregir.\n",
    "    \n",
    "  Espero tus correcciones, saludos.\n",
    "\n",
    "\n",
    "\n",
    "</div>\n",
    "\n",
    "----\n",
    "\n",
    "<div class=\"alert alert-block alert-success\">\n",
    "\n",
    "<b>Comentario general #2</b> <a class=\"tocSkip\"></a>\n",
    "\n",
    "Luis, manejaste toos los puntos de este trabajo a la perfeccion.\n",
    "\n",
    "La exploracion inciial y los graficos fueron muy bien utilizados y destaco la seccion de pruebas etadisticas.\n",
    "\n",
    "Por lo dicho, este trabajo pasa a estar **aprobado**.\n",
    "\n",
    "Exitos en lo que viene, saludos.</div>\n",
    "\n",
    "----"
   ]
  },
  {
   "cell_type": "markdown",
   "metadata": {},
   "source": [
    "<div class=\"alert alert-block alert-warning\">\n",
    "\n",
    "<b>Comentario del revisor</b> <a class=\"tocSkip\"></a>\n",
    "\n",
    "Luis, recorda realizar una introduccion al proyecto, explicando los objetivos y explicando de que se trata. Esto es muy importante de hacer para asentar las bases del proyecto, ademas de dejar en claro que se busca. A partir de una mirada a la introduccion ya entenderemos que buscamos con el proyecto.</div>"
   ]
  },
  {
   "cell_type": "markdown",
   "metadata": {},
   "source": [
    "### Análisis exploraorio de datos"
   ]
  },
  {
   "cell_type": "markdown",
   "metadata": {},
   "source": [
    "### Introducción:\n",
    "\n",
    "Este proyecto simula un caso real en el que trabajamos como analístas para Zuber, una nuevva empresa de viajes compartidos que comienza operaciones en Chicago.\n",
    "\n",
    "El objetivo es analizar datos históricos de taxis y clima durante noviembre del 2017 para:\n",
    "\n",
    "1. Identificar patrones de viaje por empresa y barrio\n",
    "2. Evaluar cómo las condiciones climáticas afectan la duración de los viajes entre Loop y el aeropuesrto internacional O´Hare\n",
    "3. Utilizar SQL para extraer datos relevantes y Python para visualización y análisis estadístico.\n",
    "\n",
    "La información obetenida  ayudará a la empresa a tomar decisiones estratégicas para ingresar al mercado."
   ]
  },
  {
   "cell_type": "markdown",
   "metadata": {},
   "source": [
    "## 1. Importar las librerías y cargar los datos"
   ]
  },
  {
   "cell_type": "code",
   "execution_count": 1,
   "metadata": {},
   "outputs": [],
   "source": [
    "#Importar librerías\n",
    "import pandas as pd\n",
    "import matplotlib.pyplot as plt\n",
    "import seaborn as sns\n",
    "from scipy.stats import ttest_ind"
   ]
  },
  {
   "cell_type": "code",
   "execution_count": 7,
   "metadata": {},
   "outputs": [],
   "source": [
    "#Cargar archivos\n",
    "df_companies = pd.read_csv(\"/datasets/project_sql_result_01.csv\")\n",
    "df_dropoffs = pd.read_csv(\"/datasets/project_sql_result_04.csv\")\n",
    "df_trips = pd.read_csv(\"/datasets/project_sql_result_07.csv\")"
   ]
  },
  {
   "cell_type": "markdown",
   "metadata": {},
   "source": [
    "<div class=\"alert alert-block alert-danger\">\n",
    "\n",
    "<b>Comentario del revisor</b> <a class=\"tocSkip\"></a>\n",
    "\n",
    "Respetando las buenas practicas, dividi las celdas.\n",
    "\n",
    "Una celda dedicala **exclusivamente** para la importacion de la librerias. La otra dedicala para la carga del dataset.\n",
    "\n",
    "Esto mejorara la organización y legibilidad del código, ademas de facilitar el manejo de errores, depurar, y reutilizar secciones sin afectar otras. </div>\n",
    "\n",
    "<div class=\"alert alert-block alert-success\">\n",
    "\n",
    "<b>Comentario del revisor #2</b> <a class=\"tocSkip\"></a>\n",
    "\n",
    "Corregido, bien hecho. </div>"
   ]
  },
  {
   "cell_type": "markdown",
   "metadata": {},
   "source": [
    "## 2. Verificar que los tipos de datos sean correctos"
   ]
  },
  {
   "cell_type": "code",
   "execution_count": 8,
   "metadata": {},
   "outputs": [
    {
     "name": "stdout",
     "output_type": "stream",
     "text": [
      "       trips_amount\n",
      "count     64.000000\n",
      "mean    2145.484375\n",
      "std     3812.310186\n",
      "min        2.000000\n",
      "25%       20.750000\n",
      "50%      178.500000\n",
      "75%     2106.500000\n",
      "max    19558.000000\n",
      "       average_trips\n",
      "count      94.000000\n",
      "mean      599.953728\n",
      "std      1714.591098\n",
      "min         1.800000\n",
      "25%        14.266667\n",
      "50%        52.016667\n",
      "75%       298.858333\n",
      "max     10727.466667\n",
      "Duplicados en df_companies: 0\n",
      "Duplicados en df_dropoffs: 0\n",
      "Nulos en df_companies:\n",
      " company_name    0\n",
      "trips_amount    0\n",
      "dtype: int64\n",
      "Nulos en df_dropoffs:\n",
      " dropoff_location_name    0\n",
      "average_trips            0\n",
      "dtype: int64\n"
     ]
    }
   ],
   "source": [
    "# Análisis estadístico rápido\n",
    "print(df_companies.describe())\n",
    "print(df_dropoffs.describe())\n",
    "\n",
    "# Verificar duplicados\n",
    "print(\"Duplicados en df_companies:\", df_companies.duplicated().sum())\n",
    "print(\"Duplicados en df_dropoffs:\", df_dropoffs.duplicated().sum())\n",
    "\n",
    "# Verificar nulos\n",
    "print(\"Nulos en df_companies:\\n\", df_companies.isnull().sum())\n",
    "print(\"Nulos en df_dropoffs:\\n\", df_dropoffs.isnull().sum())"
   ]
  },
  {
   "cell_type": "markdown",
   "metadata": {},
   "source": [
    "### Análisis inicial de los datasets\n",
    "\n",
    "**df_companies**\n",
    "\n",
    "1. Contiene el número de viajes por empresa de taxis los días 15 y 16 ce noviembre.\n",
    "2. No hay valores nulos ni duplicados.\n",
    "3. Los valores de \"trips_amount\" están dentro de un rango esperado.\n",
    "\n",
    "**df_dropoffs**\n",
    "\n",
    "1. Contienen el promedio de viajes diarios por barrio durante todo noviembre.\n",
    "2. No hay valores nulos ni duplicados.\n",
    "3. Los barrios con más tráfico pueden indicar zonas clave para operación.\n",
    "\n",
    "No se detectan errores en el formato ni en los valores."
   ]
  },
  {
   "cell_type": "markdown",
   "metadata": {},
   "source": [
    "<div class=\"alert alert-block alert-danger\">\n",
    "\n",
    "<b>Comentario del revisor</b> <a class=\"tocSkip\"></a>\n",
    "\n",
    "**Para estos dataset**:\n",
    "\n",
    "\n",
    "\n",
    "<div class=\"alert alert-block alert-danger\">\n",
    "\n",
    "<b>Comentario del revisor</b> <a class=\"tocSkip\"></a>\n",
    "\n",
    "Recorda utilizar el metodo describe() para una exploracion rapida inicial de aquellas variables numéricas. Siempre es necesario realizarlo ya que de forma rápida tenemos un panorama muy bueno de que nos espera e incluso encontraremos inconsistencias si estas existiencen.\n",
    "Describí al respecto lo que ves. </div>\n",
    "\n",
    "<div class=\"alert alert-block alert-danger\">\n",
    "\n",
    "<b>Comentario del revisor</b> <a class=\"tocSkip\"></a>\n",
    "\n",
    "Verifica si existen duplicados </div>\n",
    "\n",
    "<div class=\"alert alert-block alert-danger\">\n",
    "\n",
    "<b>Comentario del revisor</b> <a class=\"tocSkip\"></a>\n",
    "\n",
    "Deja una descripcion de lo observado en este dataset en cuanto a como se compone, si hay errores o no  (nulos, duplicados, etc) y que informacion nos provee. Este punto es muy importante porque resumiremos con un analisis en **markdown** sobre como esta compuesto el dataset y sus variables mas importante. </div>\n",
    "\n",
    "<div class=\"alert alert-block alert-success\">\n",
    "\n",
    "<b>Comentario del revisor #2</b> <a class=\"tocSkip\"></a>\n",
    "\n",
    "Corregido, excelente exploracion inicial. </div>"
   ]
  },
  {
   "cell_type": "markdown",
   "metadata": {},
   "source": [
    "## 3. Identificar los 10 barrios con más viajes finalizados"
   ]
  },
  {
   "cell_type": "code",
   "execution_count": 9,
   "metadata": {},
   "outputs": [
    {
     "name": "stdout",
     "output_type": "stream",
     "text": [
      "  dropoff_location_name  average_trips\n",
      "0                  Loop   10727.466667\n",
      "1           River North    9523.666667\n",
      "2         Streeterville    6664.666667\n",
      "3             West Loop    5163.666667\n",
      "4                O'Hare    2546.900000\n",
      "5             Lake View    2420.966667\n",
      "6            Grant Park    2068.533333\n",
      "7         Museum Campus    1510.000000\n",
      "8            Gold Coast    1364.233333\n",
      "9    Sheffield & DePaul    1259.766667\n"
     ]
    }
   ],
   "source": [
    "#Ordenar por promedio de viajes con los 10 barrios principales\n",
    "top10_neighborhoods = df_dropoffs.sort_values(by=\"average_trips\", ascending=False).head(10)\n",
    "\n",
    "#Mostrar el resultado\n",
    "print(top10_neighborhoods)"
   ]
  },
  {
   "cell_type": "markdown",
   "metadata": {},
   "source": [
    "## 4. Gráfico: Número de viajes por empresa"
   ]
  },
  {
   "cell_type": "code",
   "execution_count": 5,
   "metadata": {},
   "outputs": [
    {
     "data": {
      "image/png": "[encoded data removed]",
      "text/plain": [
       "<Figure size 1000x600 with 1 Axes>"
      ]
     },
     "metadata": {},
     "output_type": "display_data"
    }
   ],
   "source": [
    "# Ordenar y seleccionar las 10 empresas con más viajes\n",
    "top10_companies = df_companies.sort_values(by='trips_amount', ascending=False).head(10)\n",
    "\n",
    "# Crear el gráfico\n",
    "plt.figure(figsize=(10, 6))\n",
    "sns.barplot(\n",
    "    data=top10_companies,\n",
    "    x='trips_amount',\n",
    "    y='company_name',\n",
    "    palette='viridis'\n",
    ")\n",
    "plt.title('Top 10 empresas de taxis por número de viajes (15-16 noviembre)', fontsize=14)\n",
    "plt.xlabel('Cantidad de viajes')\n",
    "plt.ylabel('Empresa de taxis')\n",
    "plt.tight_layout()\n",
    "plt.show()"
   ]
  },
  {
   "cell_type": "markdown",
   "metadata": {},
   "source": [
    "### Análisis del gráfico: Top 10 de empresas de taxis por número de viajes\n",
    "\n",
    "El gráfico muestra las 10 compañías de taxis que realizaron más viajes durante los días 15 y 16 de noviembre del 2017.\n",
    "También se observa que **Flash Cab** y **Taxi Afiliation** lideran el mercado , con una diferencia significativa con las demás empresas.\n",
    "Este patrón sugiere una fuerte concentración del mercado en pocas compañías, lo cual es útil para Zuber al momento de identificar a sus principales competidores."
   ]
  },
  {
   "cell_type": "markdown",
   "metadata": {},
   "source": [
    "<div class=\"alert alert-block alert-danger\">\n",
    "\n",
    "<b>Comentario del revisor</b> <a class=\"tocSkip\"></a>\n",
    "\n",
    "En este caso el grafico esta bien realizado y aporta buena informacion.\n",
    "\n",
    "A nuestro cliente le interesa el top 10, por lo que podes modificar este grafico para visualizar ese top 10 o dejarlo y crear un nuevo para que se puede visualizar ese top 10, de esa manera se eliminaria el ruido a la hora del analisis.</div>\n",
    "\n",
    "<div class=\"alert alert-block alert-success\">\n",
    "\n",
    "<b>Comentario del revisor #2</b> <a class=\"tocSkip\"></a>\n",
    "\n",
    "Corregido, buen grafico</div>"
   ]
  },
  {
   "cell_type": "markdown",
   "metadata": {},
   "source": [
    "## Gráfico: Top 10 barrios por viajes finalizados"
   ]
  },
  {
   "cell_type": "code",
   "execution_count": 15,
   "metadata": {},
   "outputs": [
    {
     "data": {
      "image/png": "[encoded data removed]",
      "text/plain": [
       "<Figure size 1000x600 with 1 Axes>"
      ]
     },
     "metadata": {},
     "output_type": "display_data"
    }
   ],
   "source": [
    "# Gráfico de los 10 barrios con más viajes finalizados\n",
    "plt.figure(figsize=(10, 6))\n",
    "sns.barplot(data=top10_neighborhoods,\n",
    "            x='average_trips', y='dropoff_location_name', palette='magma')\n",
    "\n",
    "# Añadir título y etiquetas\n",
    "plt.title('Top 10 barrios por viajes finalizados (promedio diario en noviembre)')\n",
    "plt.xlabel('Promedio de viajes diarios')\n",
    "plt.ylabel('Barrio de destino')\n",
    "plt.tight_layout()\n",
    "plt.show()"
   ]
  },
  {
   "cell_type": "markdown",
   "metadata": {},
   "source": [
    "### Análisis del gráfico: Top 10 barrios por viajes finalizados (promedio diario en noviembre)\n",
    "\n",
    "El gráfico representa los 10 barrios de Chicago donde finalizaron más viajes de taxi durante noviembre de 2017.\n",
    "\n",
    "El barrio más destacado supera los **10,000 viajes diarios en promedio**, lo que indica una zona con alta concentración de movilidad —posiblemente áreas comerciales, de transporte o turismo.\n",
    "\n",
    "Zuber podría considerar enfocar su estrategia inicial en estos barrios para captar usuarios rápidamente y posicionar su servicio donde más demanda hay."
   ]
  },
  {
   "cell_type": "markdown",
   "metadata": {},
   "source": [
    "<div class=\"alert alert-block alert-success\">\n",
    "\n",
    "<b>Comentario del revisor</b> <a class=\"tocSkip\"></a>\n",
    "\n",
    "Muy buen grafico.\n",
    "\n",
    "</div>"
   ]
  },
  {
   "cell_type": "markdown",
   "metadata": {},
   "source": [
    "### Prueba de hipótesis"
   ]
  },
  {
   "cell_type": "markdown",
   "metadata": {},
   "source": [
    "### 1. Cargar datos de viajes Loop - O´Hare los sábados"
   ]
  },
  {
   "cell_type": "code",
   "execution_count": 9,
   "metadata": {},
   "outputs": [
    {
     "name": "stdout",
     "output_type": "stream",
     "text": [
      "Estadísticas de duración (en segundos):\n",
      "count    1068.000000\n",
      "mean     2071.731273\n",
      "std       769.461125\n",
      "min         0.000000\n",
      "25%      1438.250000\n",
      "50%      1980.000000\n",
      "75%      2580.000000\n",
      "max      7440.000000\n",
      "Name: duration_seconds, dtype: float64\n",
      "\n",
      "Total de registros duplicados: 197\n",
      "\n",
      "Valores nulos por columna:\n",
      "start_ts              0\n",
      "weather_conditions    0\n",
      "duration_seconds      0\n",
      "dtype: int64\n"
     ]
    }
   ],
   "source": [
    "# Estadísticas descriptivas de duración\n",
    "print(\"Estadísticas de duración (en segundos):\")\n",
    "print(df_trips['duration_seconds'].describe())\n",
    "\n",
    "# Verificar duplicados\n",
    "duplicados = df_trips.duplicated().sum()\n",
    "print(f\"\\nTotal de registros duplicados: {duplicados}\")\n",
    "\n",
    "# Verificar valores nulos\n",
    "print(\"\\nValores nulos por columna:\")\n",
    "print(df_trips.isnull().sum())"
   ]
  },
  {
   "cell_type": "code",
   "execution_count": 10,
   "metadata": {},
   "outputs": [
    {
     "name": "stdout",
     "output_type": "stream",
     "text": [
      "Dataset actualizado. Total de registros después de eliminar duplicados: 871\n"
     ]
    }
   ],
   "source": [
    "# Eliminar registros duplicados del dataset df_trips\n",
    "df_trips = df_trips.drop_duplicates()\n",
    "\n",
    "# Verificar cuántos registros quedaron\n",
    "print(f\"Dataset actualizado. Total de registros después de eliminar duplicados: {df_trips.shape[0]}\")"
   ]
  },
  {
   "cell_type": "markdown",
   "metadata": {},
   "source": [
    "<div class=\"alert alert-block alert-danger\">\n",
    "\n",
    "<b>Comentario del revisor</b> <a class=\"tocSkip\"></a>\n",
    "\n",
    "Carga este dataset en la celda correspondiente (La del inicio). Esto es considerado una  buena practica ya que siempre queremos tener al principio todo cargado por si hay que hacer una modificacion en el futuro.</div>\n",
    "\n",
    "<div class=\"alert alert-block alert-success\">\n",
    "\n",
    "<b>Comentario del revisor #2</b> <a class=\"tocSkip\"></a>\n",
    "\n",
    "Corregido. </div>"
   ]
  },
  {
   "cell_type": "markdown",
   "metadata": {},
   "source": [
    "<div class=\"alert alert-block alert-danger\">\n",
    "\n",
    "<b>Comentario del revisor</b> <a class=\"tocSkip\"></a>\n",
    "\n",
    "**Para este dataset**:\n",
    "\n",
    "\n",
    "<div class=\"alert alert-block alert-danger\">\n",
    "\n",
    "<b>Comentario del revisor</b> <a class=\"tocSkip\"></a>\n",
    "\n",
    "Recorda utilizar el metodo describe() para una exploracion rapida inicial de aquellas variables numéricas. Siempre es necesario realizarlo ya que de forma rápida tenemos un panorama muy bueno de que nos espera e incluso encontraremos inconsistencias si estas existiencen.\n",
    "Describí al respecto lo que ves. </div>\n",
    "\n",
    "<div class=\"alert alert-block alert-danger\">\n",
    "\n",
    "<b>Comentario del revisor</b> <a class=\"tocSkip\"></a>\n",
    "\n",
    "Verifica si existen duplicados </div>\n",
    "\n",
    "<div class=\"alert alert-block alert-danger\">\n",
    "\n",
    "<b>Comentario del revisor</b> <a class=\"tocSkip\"></a>\n",
    "\n",
    "Deja una descripcion de lo observado en este dataset en cuanto a como se compone, si hay errores o no  (nulos, duplicados, etc) y que informacion nos provee. Este punto es muy importante porque resumiremos con un analisis en **markdown** sobre como esta compuesto el dataset y sus variables mas importante. </div>\n",
    "\n",
    "<div class=\"alert alert-block alert-success\">\n",
    "\n",
    "<b>Comentario del revisor #2</b> <a class=\"tocSkip\"></a>\n",
    "\n",
    "Corregido, muy bueno. </div>"
   ]
  },
  {
   "cell_type": "markdown",
   "metadata": {},
   "source": [
    "## 2. Hipótesis y metodología"
   ]
  },
  {
   "cell_type": "markdown",
   "metadata": {},
   "source": [
    "El objetivo es determinar si las condiciones climáticas (buen clima vs clima lluvioso) afectan la duración de los viajes de taxi entre el barrio Loop y el Aeropuerto Internacional O'Hare, únicamente los sábados de noviembre de 2017.\n",
    "\n",
    "#### Hipótesis\n",
    "- **Hipótesis nula (H₀):** la duración promedio de los viajes es igual tanto en sábados con clima \"Good\" como con clima \"Bad\".\n",
    "- **Hipótesis alternativa (H₁):** la duración promedio de los viajes es diferente entre sábados con clima \"Good\" y \"Bad\".\n",
    "\n",
    "#### Método estadístico\n",
    "Se utiliza una **prueba t de Welch** (`scipy.stats.ttest_ind`) para comparar dos muestras independientes con posibles varianzas diferentes.\n",
    "\n",
    "- Variable dependiente: `duration_seconds` (duración del viaje)\n",
    "- Variable independiente: `weather_conditions` (Good / Bad)\n",
    "- Nivel de significancia: **α = 0.05**\n",
    "\n",
    "La prueba nos permitirá evaluar si las diferencias observadas en duración promedio pueden atribuirse al clima o si son resultado del azar."
   ]
  },
  {
   "cell_type": "markdown",
   "metadata": {},
   "source": [
    "## 3. Prueba estadística"
   ]
  },
  {
   "cell_type": "code",
   "execution_count": 14,
   "metadata": {},
   "outputs": [
    {
     "name": "stdout",
     "output_type": "stream",
     "text": [
      "Estadístico t: -5.8889\n",
      "Valor p: 0.0000\n",
      "Rechazamos la hipótesis nula: la duración promedio sí cambia con el clima.\n"
     ]
    }
   ],
   "source": [
    "#Eliminar outliers usando el método IQR\n",
    "q1 = df_trips['duration_seconds'].quantile(0.25)\n",
    "q3 = df_trips['duration_seconds'].quantile(0.75)\n",
    "iqr = q3 - q1\n",
    "lower_bound = q1 - 1.5 * iqr\n",
    "upper_bound = q3 + 1.5 * iqr\n",
    "\n",
    "df_filtered = df_trips[\n",
    "    (df_trips['duration_seconds'] >= lower_bound) &\n",
    "    (df_trips['duration_seconds'] <= upper_bound)\n",
    "]\n",
    "\n",
    "#Separar los datos en dos grupos\n",
    "good_weather = df_filtered[df_filtered['weather_conditions'] == 'Good']['duration_seconds']\n",
    "bad_weather = df_filtered[df_filtered['weather_conditions'] == 'Bad']['duration_seconds']\n",
    "\n",
    "#Definir nivel de significación\n",
    "alpha = 0.05\n",
    "\n",
    "#Ejecutar la prueba t de Welch\n",
    "stat, p_value = ttest_ind(good_weather, bad_weather, equal_var=False)\n",
    "\n",
    "#Mostrar resultados\n",
    "print(f'Estadístico t: {stat:.4f}')\n",
    "print(f'Valor p: {p_value:.4f}')\n",
    "\n",
    "if p_value < alpha:\n",
    "    print(\"Rechazamos la hipótesis nula: la duración promedio sí cambia con el clima.\")\n",
    "else:\n",
    "    print(\"No se rechaza la hipótesis nula: no hay evidencia de diferencia significativa.\")"
   ]
  },
  {
   "cell_type": "markdown",
   "metadata": {},
   "source": [
    "### Prueba de hipótesis: duración de viajes según el clima (con tratamiento de outliers)\n",
    "\n",
    "Para asegurar que los resultados de la prueba estadística no estén sesgados, primero hacemos dos pasos de limpieza:\n",
    "\n",
    "1. **Eliminación de duplicados:** se eliminaron 197 registros repetidos del dataset original.\n",
    "2. **Tratamiento de outliers:** aplicamos el método del rango IQR para eliminar valores extremos en la variable `duration_seconds`. Esto permite una comparación más precisa entre los grupos.\n",
    "\n",
    "#### Hipótesis:\n",
    "\n",
    "- **Hipótesis nula (H₀):** la duración promedio de los viajes es igual en sábados con clima \"Good\" y \"Bad\".\n",
    "- **Hipótesis alternativa (H₁):** la duración promedio de los viajes es diferente según el clima.\n",
    "\n",
    "Usamos una prueba t de Welch (`equal_var=False`) ya que no asumimos igualdad de varianzas y el tamaño de muestra no es idéntico.\n",
    "\n",
    "#### Resultado:\n",
    "- Estadístico t: (se imprimirá en el output)\n",
    "- Valor p: (se imprimirá en el output)\n",
    "\n",
    "Con un nivel de significancia de **α = 0.05**, si el valor p es menor, se **rechaza la hipótesis nula** y se concluye que el clima influye significativamente en la duración de los viajes desde Loop hasta O'Hare los sábados de noviembre."
   ]
  },
  {
   "cell_type": "markdown",
   "metadata": {},
   "source": [
    "<div class=\"alert alert-block alert-danger\">\n",
    "\n",
    "<b>Comentario del revisor</b> <a class=\"tocSkip\"></a>\n",
    "\n",
    "Respetando las buenas practicas carga esta libreria al comienzo del trabajo.\n",
    "</div>\n",
    "\n",
    "<div class=\"alert alert-block alert-success\">\n",
    "\n",
    "<b>Comentario del revisor #2</b> <a class=\"tocSkip\"></a>\n",
    "\n",
    "Corregido. </div>"
   ]
  },
  {
   "cell_type": "markdown",
   "metadata": {},
   "source": [
    "<div class=\"alert alert-block alert-warning\">\n",
    "<b>Comentario del revisor</b> <a class=\"tocSkip\"></a>\n",
    "\n",
    "El parametro equal_var es muy importante para este tipo de pruebas ya que le estamos indicando si las varianzas para cada conjunto son diferentes (False). Si fueran iguales (True), puede que el resultado cambie, ya que se calcula de forma diferente. Mas que nada cuando la distribucion de las muestras son desiguales (como en este caso).\n",
    "Por esto es importante, cuando realizamos esta prueba (t student). Confirmar si las varianzas son iguales o no para ambos conjuntos. Para esto se realizan **pruebas estadisticas** (como **levene**) para identificar si son iguales o no las varianzas.\n",
    "\n",
    "Al realizarla ajusta el parametro si fuera necesario .</div>\n",
    "<div class=\"alert alert-block alert-warning\">\n",
    "<b>Comentario del revisor</b> <a class=\"tocSkip\"></a>\n",
    "\n",
    "Simplemente a modo de consejo, cuando realizamos este tipo de prueba, los outliers pueden modificarla. Por lo que generalmente se recomienda tratarlos antes  de realizar la prueba.\n",
    "</div>"
   ]
  },
  {
   "cell_type": "markdown",
   "metadata": {},
   "source": [
    "## 4. Conclusión final y recomendaciones para Zuber"
   ]
  },
  {
   "cell_type": "markdown",
   "metadata": {},
   "source": [
    "## Conclusión del análisis y recomendaciones estratégicas para Zuber\n",
    "\n",
    "Este análisis tuvo como objetivo explorar patrones de viaje en taxi en la ciudad de Chicago, entendiendo tanto el comportamiento de los competidores como el impacto de factores externos (como el clima) en los viajes.\n",
    "\n",
    "### Principales hallazgos:\n",
    "\n",
    "- **Concentración del mercado:** unas pocas empresas, como Flash Cab y Taxi Affiliation Services, dominan la mayoría del volumen de viajes. Zuber deberá considerar una estrategia diferenciadora para entrar en este mercado competitivo.\n",
    "\n",
    "- **Zonas de alta demanda:** los barrios con más viajes finalizados están claramente identificados. Estos representan oportunidades clave para que Zuber enfoque campañas de adquisición de clientes, posicionamiento de unidades y promociones.\n",
    "\n",
    "- **Impacto del clima en la duración de los viajes:** se confirmó estadísticamente que los sábados lluviosos los viajes entre Loop y el aeropuerto O'Hare duran significativamente más. Esto es crucial para:\n",
    "  - Ajustar tiempos estimados en la app\n",
    "  - Prevenir cancelaciones por retrasos inesperados\n",
    "  - Aplicar tarifas dinámicas o alertas al usuario\n",
    "\n",
    "### Recomendaciones para Zuber:\n",
    "\n",
    "1. **Enfocar recursos iniciales** en los barrios con más viajes diarios finalizados.\n",
    "2. **Monitorear en tiempo real las condiciones climáticas** y ajustar estimaciones o precios dinámicos.\n",
    "3. **Ofrecer promociones o tiempos garantizados** para competir con las empresas dominantes durante sus días fuertes.\n",
    "4. **Continuar con análisis exploratorios mensuales**, incorporando eventos locales, días feriados y horarios pico.\n",
    "\n",
    "Zuber puede apalancarse en estos datos no solo para su lanzamiento, sino para escalar con decisiones informadas y estrategias basadas en evidencia real."
   ]
  }
 ],
 "metadata": {
  "kernelspec": {
   "display_name": "Python 3 (ipykernel)",
   "language": "python",
   "name": "python3"
  },
  "language_info": {
   "codemirror_mode": {
    "name": "ipython",
    "version": 3
   },
   "file_extension": ".py",
   "mimetype": "text/x-python",
   "name": "python",
   "nbconvert_exporter": "python",
   "pygments_lexer": "ipython3",
   "version": "3.9.22"
  }
 },
 "nbformat": 4,
 "nbformat_minor": 4
}
